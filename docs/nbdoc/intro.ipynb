{
 "cells": [
  {
   "cell_type": "markdown",
   "metadata": {},
   "source": [
    "# What is Steppy?"
   ]
  },
  {
   "cell_type": "markdown",
   "metadata": {},
   "source": [
    "Steppy is a lightweight, open-source, Python 3 library for fast and\n",
    "reproducible experimentation. It lets data scientist focus on data\n",
    "science, not on software development issues. Steppy’s minimal interface\n",
    "does not impose constraints, however, enables clean machine learning\n",
    "pipeline design."
   ]
  },
  {
   "cell_type": "markdown",
   "metadata": {},
   "source": [
    "# What problem steppy solves?"
   ]
  },
  {
   "cell_type": "markdown",
   "metadata": {},
   "source": [
    "In the course of the project, data scientist faces multiple problems.\n",
    "Difficulties with reproducibility and lack of the ability to prepare\n",
    "experiments quickly are two particular examples. Steppy address both\n",
    "problems by introducing two simple abstractions: ``Step`` and\n",
    "``Tranformer``. We consider it minimal interface for building machine\n",
    "learning pipelines.\n",
    "\n",
    "``Step`` is a wrapper over the transformer and handles multiple aspects\n",
    "of the execution of the pipeline, such as saving intermediate results\n",
    "(if needed), checkpoiting the model during training and much more.\n",
    "``Tranformer`` in turn, is purely computational, data scientist-defined\n",
    "piece that takes an input data and produces some output data. Typical\n",
    "Transformers are neural netowrk, machine learning algorithms and pre- or\n",
    "post-processing routines."
   ]
  },
  {
   "cell_type": "markdown",
   "metadata": {},
   "source": [
    "# Installation"
   ]
  },
  {
   "cell_type": "markdown",
   "metadata": {},
   "source": [
    "Steppy requires ``python3.5`` or above.\n",
    "\n",
    ".. code:: bash\n",
    "\n",
    "   pip3 install steppy\n",
    "\n",
    "*(you probably want to install it in\n",
    "your* \\ `virtualenv <https://virtualenv.pypa.io/en/stable>`__\\ *)*"
   ]
  },
  {
   "cell_type": "markdown",
   "metadata": {},
   "source": [
    "# Roadmap"
   ]
  },
  {
   "cell_type": "markdown",
   "metadata": {},
   "source": [
    "At this point steppy is early-stage library heavily\n",
    "tested on multiple machine learning challenges\n",
    "(`data-science-bowl <https://github.com/minerva-ml/open-solution-data-science-bowl-2018>`__,\n",
    "`toxic-comment-classification-challenge <https://github.com/minerva-ml/open-solution-toxic-comments>`__,\n",
    "`mapping-challenge <https://github.com/minerva-ml/open-solution-mapping-challenge>`__)\n",
    "and educational projects\n",
    "(`minerva-advanced-data-scientific-training <https://github.com/minerva-ml/minerva-training-materials>`__).\n",
    "\n",
    "We are developing steppy towards practical tool for data\n",
    "scientists who can run their experiments easily and change their\n",
    "pipelines with just few manipulations in the code.\n"
   ]
  },
  {
   "cell_type": "markdown",
   "metadata": {},
   "source": [
    "# Feature Requests"
   ]
  },
  {
   "cell_type": "markdown",
   "metadata": {},
   "source": [
    "Please send us your ideas on how to improve steppy library! We are\n",
    "looking for your comments here: `Feature\n",
    "requests <https://github.com/minerva-ml/steppy/issues>`__."
   ]
  },
  {
   "cell_type": "markdown",
   "metadata": {},
   "source": [
    "# Resources"
   ]
  },
  {
   "cell_type": "markdown",
   "metadata": {},
   "source": [
    "1. `Documentation <https://steppy.readthedocs.io/en/latest>`__\n",
    "1. `Source <https://github.com/minerva-ml/steppy>`__\n",
    "1. `Bugs reports <https://github.com/minerva-ml/steppy/issues>`__\n",
    "1. `Feature requests <https://github.com/minerva-ml/steppy/issues>`__\n",
    "1. Tutorial notebooks (`their repository <https://github.com/minerva-ml/steppy-examples>`__):\n",
    "\n",
    "   -  `Getting started <https://github.com/minerva-ml/steppy-examples/blob/master/tutorials/1-getting-started.ipynb>`__\n",
    "   -  `Steps with multiple inputs <https://github.com/minerva-ml/steppy-examples/blob/master/tutorials/2-multi-step.ipynb>`__\n",
    "   -  `Advanced adapters <https://github.com/minerva-ml/steppy-examples/blob/master/tutorials/3-adapter_advanced.ipynb>`__\n",
    "   -  `Caching and persistance <https://github.com/minerva-ml/steppy-examples/blob/master/tutorials/4-caching-persistence.ipynb>`__\n",
    "   -  `Steppy with Keras <https://github.com/minerva-ml/steppy-examples/blob/master/tutorials/5-steps-with-keras.ipynb>`__"
   ]
  }
 ],
 "metadata": {
  "hide_input": false,
  "kernelspec": {
   "display_name": "Python 3",
   "language": "python",
   "name": "python3"
  },
  "language_info": {
   "codemirror_mode": {
    "name": "ipython",
    "version": 3
   },
   "file_extension": ".py",
   "mimetype": "text/x-python",
   "name": "python",
   "nbconvert_exporter": "python",
   "pygments_lexer": "ipython3",
   "version": "3.6.3"
  },
  "toc": {
   "colors": {
    "hover_highlight": "#DAA520",
    "running_highlight": "#FF0000",
    "selected_highlight": "#FFD700"
   },
   "moveMenuLeft": true,
   "nav_menu": {
    "height": "12px",
    "width": "252px"
   },
   "navigate_menu": true,
   "number_sections": true,
   "sideBar": true,
   "threshold": 4,
   "toc_cell": false,
   "toc_section_display": "block",
   "toc_window_display": false,
   "widenNotebook": false
  }
 },
 "nbformat": 4,
 "nbformat_minor": 2
}
