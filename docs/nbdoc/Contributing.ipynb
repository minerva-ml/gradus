{
 "cells": [
  {
   "cell_type": "markdown",
   "metadata": {},
   "source": [
    "# Contributing to any of the Steppy Projects"
   ]
  },
  {
   "cell_type": "markdown",
   "metadata": {},
   "source": [
    "Steppy is an open source library that to help build machine learning pipelines.\n",
    "\n",
    "The public project is on GitHub and consist of three resources:\n",
    "\n",
    "- [Steppy](https://github.com/minerva-ml/steppy) (steppy core library)\n",
    "- [steppy-toolkit](https://github.com/minerva-ml/steppy-toolkit) (toolkit of mostly ``Transformer`` classes and ``Step`` wrappers commonly used in a data science project)\n",
    "- [steppy-examples](https://github.com/minerva-ml/steppy-examples) (tutorials as a series of jupyter notebooks)\n",
    "\n",
    "This document can be used for ``Steppy``, ``Steppy-toolkit`` and  ``Steppy-example`` projects, but will refer from now on only to the ``Steppy`` project.\n",
    "\n",
    "We recommend you start with the ``Steppy`` GitHub\n",
    "[issues](https://github.com/neptune-ml/steppy/issues).\n",
    "\n",
    "There are a number of [issues](https://github.com/neptune-ml/steppy/issues) listed under ``docs`` and ``tests`` which are good start to out with. "
   ]
  },
  {
   "cell_type": "markdown",
   "metadata": {},
   "source": [
    "You can contribute to a Steppy Project in many ways. Below are listed some of the areas:\n",
    "\n",
    "- Fix a typo in Documenation.\n",
    "- Upgrade a Doumentation topic.\n",
    "- Upgrade a docstring topic.\n",
    "- Report a Documentation bug you have found.\n",
    "- Code more tests.\n",
    "- Test a distribution candidate.\n",
    "- Fix a bug in a feature.\n",
    "- Refactor a feature.\n",
    "- Suggest a new feature.\n",
    "- Implement a new feature.\n",
    "- Add to/improve a tutorial.\n",
    "- Implement a new tutorial.\n",
    "\n",
    "See [issues](https://github.com/neptune-ml/steppy/issues) or [projects](https://github.com/neptune-ml/steppy/projects/1) for open issues on project ideas.\n",
    "\n",
    "Once you found a issue to work on, you need to set-up your local ``Steppy`` development environment.  Code and Documentation and Test can have separate or shared environments. Each one is discussed in the following sections."
   ]
  },
  {
   "cell_type": "markdown",
   "metadata": {},
   "source": [
    "## Contributing to the Steppy Documentation"
   ]
  },
  {
   "cell_type": "markdown",
   "metadata": {},
   "source": [
    "One of the best ways to start **CONTRIBUTE**-ing to the ``Steppy`` projects is documentation. \n",
    "\n",
    "The ``Steppy``project uses ``Sphinx``. Sphinx, written by Georg Brandl and licensed under the BSD license, was originally created for the Python documentation. It has excellent facilities for the documentation of software projects in a range of languages. \n",
    "\n",
    "Once you finish your documentation enhancement, please Submit a GitHub pull request. \n",
    "\n",
    "Documentation sources can be found [here.](https://github.com/neptune-ml/steppy/doc/)\n",
    "\n",
    "``Steppy`` Documentation can be found [here.](https://steppy.readthedocs.io)"
   ]
  },
  {
   "cell_type": "markdown",
   "metadata": {},
   "source": [
    "### Create a Documentation environment using conda\n",
    "\n",
    "Most of what you need in both ``Sphinx`` packages and environment creation are in the [Anaconda](https://www.anaconda.com) distribution.\n",
    "\n",
    "First you should create an environment for ``Steppy``documenation. Detailed instuctions are found [here.](https://conda.io/docs/user-guide/tasks/manage-environments.html).\n",
    "\n",
    "Almost all of the packages you need for documentation are included in the Anaconda distribution. You only need add to your environment (for this and other examples we call our environment ``Steppy``).\n",
    "\n",
    "    >>> (Steppy) pip install steppy\n",
    "    >>> (Steppy) pip install sphinx-theme "
   ]
  },
  {
   "cell_type": "markdown",
   "metadata": {},
   "source": [
    "### Create a Documentation environment using virtenv"
   ]
  },
  {
   "cell_type": "markdown",
   "metadata": {},
   "source": [
    "### Create your own docs\n",
    "\n",
    "The ``neptune.ml/Steppy`` project has created the ``docs``directory and the initial infrastructure. You will finish creating your local doc development environment.\n",
    "\n",
    "Clone the ``neptune.ml/Steppy`` to the local directory you have selected using ``git``,\n",
    "\n",
    "Go to``Steppy`` project directory\n",
    "\n",
    "    >>> (Steppy) cd .../Steppy/docs\n",
    "    \n",
    "Create ``rst`` files from docstrings in ``py`` files.:\n",
    "\n",
    "    >>> (Steppy) sphinx-apidoc -o generated/ -d 4 -fMa ../steppy\n",
    "    \n",
    "Generate documnentation:\n",
    "\n",
    "    >>> (Steppy) clear;make clean;make html\n",
    "    \n",
    "The HTML of the documentation can be found [here.](.../Steppy/docs/_build/html/index.html)"
   ]
  },
  {
   "cell_type": "markdown",
   "metadata": {},
   "source": [
    "### How to use notebooks (``ipynb`` ) for documentation\n",
    "\n",
    "Python notebooks (``ipynb`` ) can be used to document instead of or with ``rst`` files. ``nbsphinx``  is a Sphinx extension that enables ``ipynb`` files.\n",
    "\n",
    "To Install ``nbsphinx``:\n",
    "\n",
    "    >>> (Steppy) pip install nbsphinx --user\n",
    "\n",
    "in your ``Steppy`` doc environment.\n",
    "    \n",
    "Edit your ``conf.py`` and change ``source_suffix``:\n",
    "\n",
    "    source_suffix = ['.rst', '.ipynb']\n",
    "\n",
    "Edit your ``index.rst``  and add the names of your *.ipynb files to the toctree.\n",
    "\n",
    "More detailed information is found [here.](https://nbsphinx.readthedocs.io/en/0.2.8/rst.html)"
   ]
  },
  {
   "cell_type": "markdown",
   "metadata": {},
   "source": [
    "### Sphinx and other Documentation Resources\n",
    "- [Overview](https://pythonhosted.org/an_example_pypi_project/sphinx.html)\n",
    "- [yao](https://codeandchaos.wordpress.com/2012/07/30/sphinx-autodoc-tutorial-for-dummies/)"
   ]
  },
  {
   "cell_type": "markdown",
   "metadata": {},
   "source": [
    "## Contributing to the Steppy Issues and Reviews"
   ]
  },
  {
   "cell_type": "markdown",
   "metadata": {},
   "source": [
    "\n",
    "- Answering queries on the issue tracker.\n",
    "- Investigating, isolating or/and implementing code that demostrates a bug that other(s) have reported on https://github.com/neptune-ml/steppy/issues.\n",
    "- Review other developers’ pull requests especially merges that could cause conflicts.\n",
    "- Report any issues that you may encounter.\n",
    "- Reference the project from your blog and articles.\n",
    "- Link to it from your social media account or website\n",
    "- Use your imagination. Let us know as we will add to this list.\n"
   ]
  },
  {
   "cell_type": "markdown",
   "metadata": {},
   "source": [
    "## Contributing to the Steppy Tests"
   ]
  },
  {
   "cell_type": "markdown",
   "metadata": {},
   "source": [
    "The next suggested step (sic.) to **CONTRIBUTE** to the various ``Steppy`` projects is testing. Create a testing enhancement, then Submit a GitHub pull request.\n",
    "\n",
    "Test sources can be found [here.](https://github.com/neptune-ml/steppy/tests)\n",
    "\n",
    "We have created a separate section for ``Steppy`` project testing. [Steppy Testing](testdoc.ipynb)"
   ]
  },
  {
   "cell_type": "markdown",
   "metadata": {},
   "source": [
    "## Contributing to Steppy Distributions"
   ]
  },
  {
   "cell_type": "markdown",
   "metadata": {},
   "source": [
    "This contribution consists of running the test suite on a configuration."
   ]
  },
  {
   "cell_type": "markdown",
   "metadata": {},
   "source": [
    "## Contributing to the Steppy Code"
   ]
  },
  {
   "cell_type": "markdown",
   "metadata": {},
   "source": [
    "1. You want to propose a new Feature and implement it post about your intended feature (under issues or projects) and project management shall discuss the design and implementation. Once we agree that the plan looks good, go ahead and implement it.\n",
    "\n",
    "1. You want to implement a feature refactor or bug-fix for an outstanding issue. Look at the outstanding issues here: https://github.com/Step/Step/issues. Pick an issue and comment on the task that you want to work on this feature. If you need more context on a particular issue, please ask and someone will provide a suggestion on how to proceed.\n",
    "\n",
    "Code sources can be found under the https://github.com/neptune-ml/steppy/src/ directory.\n",
    "\n",
    "Once you finish your feature enhancement, please Submit a GitHub pull request."
   ]
  },
  {
   "cell_type": "markdown",
   "metadata": {},
   "source": [
    "## Contributing to the Steppy-Examples"
   ]
  },
  {
   "cell_type": "markdown",
   "metadata": {},
   "source": [
    "Currently, **Steppy** supports both documentation and learning by **Steppy-Examples**\n",
    "\n",
    "1. Add to/improve a tutorial.\n",
    "1. Implement new tutorial.\n",
    "\n"
   ]
  },
  {
   "cell_type": "markdown",
   "metadata": {},
   "source": [
    "## Creating  a push request "
   ]
  },
  {
   "cell_type": "markdown",
   "metadata": {},
   "source": [
    "Navigate to the **Steepy** repo -\n",
    "   \n",
    "   https://github.com/neptune-ml/steppy.git.\n",
    "    \n",
    "1. Click the “Fork” button in the top-right part of the page, right under the main navigation. A copy of the **Steepy** repo in your Github account.\n",
    "1. Clone your Github account copy of the of the **Steepy** repo on your local client  machine where you will do your development enhancements for the **Steepy** project. \n",
    "    \n",
    "        cd <local client  machine development directory>\n",
    "        git clone https://github.com/<your github username>/steppy.git"
   ]
  },
  {
   "cell_type": "markdown",
   "metadata": {},
   "source": [
    "Locally, create a branch for your work\n",
    "\n",
    "    git checkout -b <branch-name>  "
   ]
  },
  {
   "cell_type": "markdown",
   "metadata": {},
   "source": [
    "Locally,  accomplish your changes to N files named \\<file-1\\>...\\<file-n\\>\n",
    "\n",
    "    git add <file-1>\n",
    "    .\n",
    "    .\n",
    "    git add <file-n>    \n"
   ]
  },
  {
   "cell_type": "markdown",
   "metadata": {},
   "source": [
    "commit locally N-files from staging area\n",
    "    \n",
    "    git commit -a -m '<message-documentating-change>'"
   ]
  },
  {
   "cell_type": "markdown",
   "metadata": {},
   "source": [
    "show associated remote repo on GitHub\n",
    "\n",
    "    git remote -v"
   ]
  },
  {
   "cell_type": "markdown",
   "metadata": {},
   "source": [
    "push to remote GitHub, aliased as origin, from local branch \\<branch-name\\>    \n",
    "\n",
    "    git push origin <branch-name>"
   ]
  },
  {
   "cell_type": "markdown",
   "metadata": {},
   "source": [
    "1. on your remote Github account repo, change to branch \\<branch-name\\>,\n",
    "1. Navigate to the base repo at hhttps://github.com/neptune-ml/steppy/issues and click the “New Pull Request” button\n",
    "\n",
    " what you are doing is: “I have some code in my **fork** of the **Steppy** project in \\<branch-name\\> that I want to merge into the **Steppy** base repo.”\n",
    " \n",
    " "
   ]
  }
 ],
 "metadata": {
  "hide_input": false,
  "kernelspec": {
   "display_name": "Python 3",
   "language": "python",
   "name": "python3"
  },
  "language_info": {
   "codemirror_mode": {
    "name": "ipython",
    "version": 3
   },
   "file_extension": ".py",
   "mimetype": "text/x-python",
   "name": "python",
   "nbconvert_exporter": "python",
   "pygments_lexer": "ipython3",
   "version": "3.6.5"
  },
  "toc": {
   "colors": {
    "hover_highlight": "#DAA520",
    "running_highlight": "#FF0000",
    "selected_highlight": "#FFD700"
   },
   "moveMenuLeft": true,
   "nav_menu": {
    "height": "62px",
    "width": "252px"
   },
   "navigate_menu": true,
   "number_sections": true,
   "sideBar": true,
   "threshold": 4,
   "toc_cell": false,
   "toc_section_display": "block",
   "toc_window_display": true,
   "widenNotebook": false
  }
 },
 "nbformat": 4,
 "nbformat_minor": 2
}
