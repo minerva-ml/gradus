{
 "cells": [
  {
   "cell_type": "markdown",
   "metadata": {},
   "source": [
    "# Contributing to any of the Steppy Projects"
   ]
  },
  {
   "cell_type": "markdown",
   "metadata": {},
   "source": [
    "There are major project areas, each of which is organized as a separate project:\n",
    "\n",
    "1. **Steppy**: The major infrastucture on which **Steppy** is based on.\n",
    "1. **Steppy-toolkit**: \n",
    "1. **Steppy-examples**: \n",
    "\n",
    "This document can be used for all **Steppy** projects, but will refer from now on only to the \n",
    "**Steppy** project.\n",
    "\n",
    "We recommend you start start with the **Steppy** GitHub\n",
    "`issues <<https://github.com/neptune-ml/steppy/issues>`__\n",
    "\n",
    "There are a number of issues listed under Docs with good issues to start with. "
   ]
  },
  {
   "cell_type": "markdown",
   "metadata": {},
   "source": [
    "You can contribute to a Steppy Project in one of many ways. Below are listed some of the areas:: \n",
    "\n",
    "1. Fix a typo in Documenation.\n",
    "1. Upgrade a Doumentation Feature.\n",
    "1. Submit a new Doumentation Feature.\n",
    "1. Report a Documntation bug you have found.\n",
    "1. Fix a bug in a feature.\n",
    "1. Refactor a feature.\n",
    "1. Suggest a new feature.\n",
    "1. Implement a new feature.\n",
    "1. Add to/improve a tutorial.\n",
    "1. Implement new tutorial.\n",
    "\n",
    "See https://github.com/neptune-ml/steppy/issues or https://github.com/neptune-ml/steppy/projects/1 for open issues on project ideas.\n",
    "\n",
    "Your very next step, once you found a issue to work on, you need to set-up your local **Steppy** development environment.  Pandas https://pandas.pydata.org/pandas-docs/stable/contributing.html#contributing-to-the-documentation and  https://pandas.pydata.org/pandas-docs/stable/contributing.html#working-with-the-code go into detail on setting up your environment, using git, testing, etc."
   ]
  },
  {
   "cell_type": "markdown",
   "metadata": {},
   "source": [
    "## Contributing to the Steppy Documentation"
   ]
  },
  {
   "cell_type": "markdown",
   "metadata": {},
   "source": [
    "The best way to start **CONTRIBUTE**-ing to the **Steppy** projects is documentation. \n",
    "\n",
    "1. Fix a typo in Documenation.\n",
    "1. Upgrade a Doumentation Feature.\n",
    "1. Submit a new Doumentation Feature.\n",
    "1. Report a Documntation bug you have found.\n",
    "\n",
    "Once you finish your documentation enhancement, please Submit a GitHub pull request. \n",
    "\n",
    "Documentation sources can be found under the https://github.com/neptune-ml/steppy/doc/ directory.\n",
    "\n",
    "Documentation can be found at https://steppy.readthedocs.io"
   ]
  },
  {
   "cell_type": "markdown",
   "metadata": {
    "heading_collapsed": true
   },
   "source": [
    "## Contributing to the Steppy Issues and Reviews"
   ]
  },
  {
   "cell_type": "markdown",
   "metadata": {
    "hidden": true
   },
   "source": [
    "1. Answering queries on the issue tracker.\n",
    "1. Investigating, isolating or/and implementing code that demostrates a bug that other(s) have reported on https://github.com/neptune-ml/steppy/issues.\n",
    "1. Review other developers’ pull requests especially merges that could cause conflicts.\n",
    "1. Report any issues that you may encounter.\n",
    "1. Reference the project from your blog and articles.\n",
    "1. link to it from your social media account or website\n",
    "1. Please always reference **Steppy**."
   ]
  },
  {
   "cell_type": "markdown",
   "metadata": {},
   "source": [
    "## Contributing to the Steppy Tests"
   ]
  },
  {
   "cell_type": "markdown",
   "metadata": {},
   "source": [
    "The next suggested step (sic.) to **CONTRIBUTE** to the various **Steppy** projects is testing. Once you finish your testing enhancement, please Submit a GitHub pull request.\n",
    "\n",
    "Test sources can be found under the https://github.com/neptune-ml/steppy/test/ directory.\n",
    "\n",
    "\n"
   ]
  },
  {
   "cell_type": "markdown",
   "metadata": {},
   "source": [
    "## Contributing to Steppy Distributions"
   ]
  },
  {
   "cell_type": "markdown",
   "metadata": {},
   "source": []
  },
  {
   "cell_type": "markdown",
   "metadata": {},
   "source": []
  },
  {
   "cell_type": "markdown",
   "metadata": {
    "heading_collapsed": true
   },
   "source": [
    "## Contributing to the Steppy Code"
   ]
  },
  {
   "cell_type": "markdown",
   "metadata": {
    "hidden": true
   },
   "source": [
    "1. You want to propose a new Feature and implement it post about your intended feature (under issues or projects) and project management shall discuss the design and implementation. Once we agree that the plan looks good, go ahead and implement it.\n",
    "\n",
    "1. You want to implement a feature refactor or bug-fix for an outstanding issue. Look at the outstanding issues here: https://github.com/Step/Step/issues. Pick an issue and comment on the task that you want to work on this feature. If you need more context on a particular issue, please ask and someone will provide a suggestion on how to proceed.\n",
    "\n",
    "Code sources can be found under the https://github.com/neptune-ml/steppy/src/ directory.\n",
    "\n",
    "Once you finish your feature enhancement, please Submit a GitHub pull request."
   ]
  },
  {
   "cell_type": "markdown",
   "metadata": {
    "heading_collapsed": true
   },
   "source": [
    "## Contributing to the Steppy-Examples"
   ]
  },
  {
   "cell_type": "markdown",
   "metadata": {
    "hidden": true
   },
   "source": [
    "Currently, **Steppy** supports both documentation and learning by **Steppy-Examples**\n",
    "\n",
    "1. Add to/improve a tutorial.\n",
    "1. Implement new tutorial.\n",
    "\n"
   ]
  },
  {
   "cell_type": "markdown",
   "metadata": {},
   "source": [
    "## Contributing to the Steppy-Toolkit"
   ]
  },
  {
   "cell_type": "markdown",
   "metadata": {},
   "source": []
  },
  {
   "cell_type": "markdown",
   "metadata": {},
   "source": []
  },
  {
   "cell_type": "markdown",
   "metadata": {},
   "source": []
  },
  {
   "cell_type": "markdown",
   "metadata": {},
   "source": [
    "## Creating  a push request "
   ]
  },
  {
   "cell_type": "markdown",
   "metadata": {},
   "source": [
    "Navigate the the **Steepy** repo -\n",
    "   \n",
    "   https://github.com/neptune-ml/steppy.git.\n",
    "    \n",
    "1. Click the “Fork” button in the top-right part of the page, right under the main navigation. A copy of the **Steepy** repo in your Github account.\n",
    "1. Clone your Github account copy of the of the **Steepy** repo on your local client  machine where you will do your development enhancements for the **Steepy** project. \n",
    "    \n",
    "        cd <local client  machine development directory>\n",
    "        git clone https://github.com/<your github username>/steppy.git"
   ]
  },
  {
   "cell_type": "markdown",
   "metadata": {},
   "source": [
    "Locally, create a branch for your work\n",
    "\n",
    "    git checkout -b <branch-name>  "
   ]
  },
  {
   "cell_type": "markdown",
   "metadata": {},
   "source": [
    "Locally,  accomplish your changes to N files named \\<file-1\\>...\\<file-n\\>\n",
    "\n",
    "    git add <file-1>\n",
    "    .\n",
    "    .\n",
    "    git add <file-n>    \n"
   ]
  },
  {
   "cell_type": "markdown",
   "metadata": {},
   "source": [
    "commit locally N-files from staging area\n",
    "    \n",
    "    git commit -a -m '<message-documentating-change>'"
   ]
  },
  {
   "cell_type": "markdown",
   "metadata": {},
   "source": [
    "show associated remote repo on GitHub\n",
    "\n",
    "    git remote -v"
   ]
  },
  {
   "cell_type": "markdown",
   "metadata": {},
   "source": [
    "push to remote GitHub, aliased as origin, from local branch \\<branch-name\\>    \n",
    "\n",
    "    git push origin <branch-name>"
   ]
  },
  {
   "cell_type": "markdown",
   "metadata": {},
   "source": [
    "1. on your remote Github account repo, change to branch \\<branch-name\\>,\n",
    "1. Navigate to the base repo at hhttps://github.com/neptune-ml/steppy/issues and click the “New Pull Request” button\n",
    "\n",
    " what you are doing is: “I have some code in my **fork** of the **Steppy** project in \\<branch-name\\> that I want to merge into the **Steppy** base repo. Even though it maybe the worse hack you have ever seen. Put it in anyway.”"
   ]
  },
  {
   "cell_type": "markdown",
   "metadata": {},
   "source": []
  },
  {
   "cell_type": "markdown",
   "metadata": {},
   "source": []
  },
  {
   "cell_type": "markdown",
   "metadata": {},
   "source": [
    "# "
   ]
  },
  {
   "cell_type": "markdown",
   "metadata": {},
   "source": []
  },
  {
   "cell_type": "markdown",
   "metadata": {},
   "source": [
    "# "
   ]
  },
  {
   "cell_type": "markdown",
   "metadata": {},
   "source": []
  },
  {
   "cell_type": "markdown",
   "metadata": {},
   "source": [
    "# "
   ]
  },
  {
   "cell_type": "markdown",
   "metadata": {},
   "source": []
  },
  {
   "cell_type": "markdown",
   "metadata": {},
   "source": [
    "# "
   ]
  },
  {
   "cell_type": "markdown",
   "metadata": {},
   "source": []
  },
  {
   "cell_type": "markdown",
   "metadata": {},
   "source": [
    "# "
   ]
  },
  {
   "cell_type": "markdown",
   "metadata": {},
   "source": []
  }
 ],
 "metadata": {
  "hide_input": false,
  "kernelspec": {
   "display_name": "Python 3",
   "language": "python",
   "name": "python3"
  },
  "language_info": {
   "codemirror_mode": {
    "name": "ipython",
    "version": 3
   },
   "file_extension": ".py",
   "mimetype": "text/x-python",
   "name": "python",
   "nbconvert_exporter": "python",
   "pygments_lexer": "ipython3",
   "version": "3.6.3"
  },
  "toc": {
   "colors": {
    "hover_highlight": "#DAA520",
    "running_highlight": "#FF0000",
    "selected_highlight": "#FFD700"
   },
   "moveMenuLeft": true,
   "nav_menu": {
    "height": "62px",
    "width": "252px"
   },
   "navigate_menu": true,
   "number_sections": true,
   "sideBar": true,
   "threshold": 4,
   "toc_cell": false,
   "toc_section_display": "block",
   "toc_window_display": true,
   "widenNotebook": false
  }
 },
 "nbformat": 4,
 "nbformat_minor": 2
}
